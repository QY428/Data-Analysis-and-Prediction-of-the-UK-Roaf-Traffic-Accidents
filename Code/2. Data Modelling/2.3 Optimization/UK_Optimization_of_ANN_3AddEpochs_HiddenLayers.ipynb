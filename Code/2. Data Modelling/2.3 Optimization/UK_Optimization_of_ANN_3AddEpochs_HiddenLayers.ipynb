{
 "cells": [
  {
   "cell_type": "code",
   "execution_count": 1,
   "id": "438a97bd",
   "metadata": {},
   "outputs": [
    {
     "name": "stderr",
     "output_type": "stream",
     "text": [
      "D:\\Program Files\\anaconda3\\lib\\site-packages\\numpy\\_distributor_init.py:30: UserWarning: loaded more than 1 DLL from .libs:\n",
      "D:\\Program Files\\anaconda3\\lib\\site-packages\\numpy\\.libs\\libopenblas.EL2C6PLE4ZYW3ECEVIV3OXXGRN2NRFM2.gfortran-win_amd64.dll\n",
      "D:\\Program Files\\anaconda3\\lib\\site-packages\\numpy\\.libs\\libopenblas.FB5AE2TYXYH2IJRDKGDGQ3XBKLKTF43H.gfortran-win_amd64.dll\n",
      "  warnings.warn(\"loaded more than 1 DLL from .libs:\"\n"
     ]
    }
   ],
   "source": [
    "# import the usual suspects ...\n",
    "import pandas as pd\n",
    "import numpy as np\n",
    "import glob\n",
    "\n",
    "import matplotlib.pyplot as plt\n",
    "import seaborn as sns\n",
    "\n",
    "# suppress all warnings\n",
    "import warnings\n",
    "warnings.filterwarnings(\"ignore\")\n",
    "from sklearn.linear_model import LogisticRegression, LinearRegression\n",
    "from sklearn.metrics import classification_report, confusion_matrix, accuracy_score, f1_score, plot_confusion_matrix, roc_auc_score, balanced_accuracy_score, mean_squared_error, r2_score\n",
    "import itertools\n",
    "import pandas as pd\n",
    "import numpy as np\n",
    "pd.set_option('display.max_columns', 50)\n",
    "import matplotlib.pyplot as plt\n",
    "%matplotlib inline\n",
    "np.random.seed(123)\n",
    "import seaborn as sns\n",
    "from sklearn.preprocessing import StandardScaler, MinMaxScaler\n",
    "from sklearn.model_selection import train_test_split\n",
    "from sklearn.metrics import accuracy_score\n",
    "from sklearn.utils import resample\n",
    "from sklearn.ensemble import RandomForestClassifier\n",
    "from sklearn.linear_model import LogisticRegression\n",
    "from sklearn.metrics import classification_report, confusion_matrix\n",
    "from imblearn.over_sampling import SMOTE\n",
    "# import the usual suspects ...\n",
    "import pandas as pd\n",
    "import numpy as np\n",
    "import glob\n",
    "\n",
    "import matplotlib.pyplot as plt\n",
    "import seaborn as sns\n",
    "\n",
    "# suppress all warnings\n",
    "import warnings\n",
    "warnings.filterwarnings(\"ignore\")\n",
    "import tensorflow as tf\n",
    "from tensorflow.keras import layers\n",
    "from tensorflow.keras import utils\n",
    "from tensorflow.keras.layers import Dense\n",
    "import tensorflow as tf\n",
    "from tensorflow.keras import layers\n",
    "from tensorflow.keras import utils\n",
    "from tensorflow.keras.layers import Dense\n",
    "# Import label encoder\n",
    "from sklearn import preprocessing"
   ]
  },
  {
   "cell_type": "code",
   "execution_count": 2,
   "id": "4de2b4bf",
   "metadata": {},
   "outputs": [],
   "source": [
    "from sklearn.preprocessing import StandardScaler, MinMaxScaler"
   ]
  },
  {
   "cell_type": "code",
   "execution_count": 3,
   "id": "cb0e4d79",
   "metadata": {},
   "outputs": [],
   "source": [
    "# Train/Test Split\n",
    "X = pd.read_csv(\"X_re.csv\")\n",
    "y = pd.read_csv(\"y_re.csv\")"
   ]
  },
  {
   "cell_type": "code",
   "execution_count": 4,
   "id": "0ca68727",
   "metadata": {},
   "outputs": [],
   "source": [
    "from sklearn.model_selection import train_test_split\n",
    "\n",
    "# split our data\n",
    "X_train, X_test, y_train, y_test = train_test_split(X, y, test_size=0.2)"
   ]
  },
  {
   "cell_type": "code",
   "execution_count": 5,
   "id": "420fcc57",
   "metadata": {},
   "outputs": [],
   "source": [
    "# Standardization\n",
    "scaler = StandardScaler()\n",
    "X_train = pd.DataFrame(scaler.fit_transform(X_train), columns=list(X_train.columns))\n",
    "X_test = pd.DataFrame(scaler.transform(X_test), columns=list(X_test.columns))"
   ]
  },
  {
   "cell_type": "code",
   "execution_count": 6,
   "id": "5818a908",
   "metadata": {},
   "outputs": [],
   "source": [
    "# label_encoder object knows how to understand word labels.\n",
    "label_encoder = preprocessing.LabelEncoder()\n",
    "\n",
    "# Encode labels in column 'species'.\n",
    "y_train_nn = label_encoder.fit_transform(y_train)\n",
    "y_test_nn = label_encoder.fit_transform(y_test)\n",
    "\n",
    "x_train_ann = X_train\n",
    "x_test_ann = X_test"
   ]
  },
  {
   "cell_type": "code",
   "execution_count": 7,
   "id": "66ccba8b",
   "metadata": {},
   "outputs": [],
   "source": [
    "num_classes = 3\n",
    "y_train_ann = utils.to_categorical(y_train_nn, num_classes)\n",
    "y_test_ann = utils.to_categorical(y_test_nn, num_classes)\n",
    "num_features = x_test_ann.shape[1]\n",
    "num_classes = y_train_ann.shape[1]"
   ]
  },
  {
   "cell_type": "code",
   "execution_count": 8,
   "id": "9cd4ab56",
   "metadata": {},
   "outputs": [],
   "source": [
    "ann_model3 = tf.keras.Sequential()\n",
    "ann_model3.add(Dense(512, kernel_initializer='normal', activation='relu', input_shape=(27,)))\n",
    "ann_model3.add(Dense(64, kernel_initializer='normal', activation='relu'))\n",
    "ann_model3.add(Dense(64, kernel_initializer='normal', activation='relu'))\n",
    "ann_model3.add(Dense(64, kernel_initializer='normal', activation='relu'))\n",
    "ann_model3.add(Dense(num_classes, kernel_initializer='normal', activation='softmax'))\n",
    "ann_model3.compile(loss='categorical_crossentropy', optimizer='adam', metrics=['accuracy'])"
   ]
  },
  {
   "cell_type": "code",
   "execution_count": 9,
   "id": "92a1e9d0",
   "metadata": {},
   "outputs": [
    {
     "name": "stdout",
     "output_type": "stream",
     "text": [
      "Epoch 1/30\n",
      "14003/14003 [==============================] - 42s 3ms/step - loss: 0.9004 - accuracy: 0.5605 - val_loss: 0.8584 - val_accuracy: 0.5867\n",
      "Epoch 2/30\n",
      "14003/14003 [==============================] - 42s 3ms/step - loss: 0.8280 - accuracy: 0.6025 - val_loss: 0.7984 - val_accuracy: 0.6185\n",
      "Epoch 3/30\n",
      "14003/14003 [==============================] - 41s 3ms/step - loss: 0.7762 - accuracy: 0.6293 - val_loss: 0.7622 - val_accuracy: 0.6373\n",
      "Epoch 4/30\n",
      "14003/14003 [==============================] - 40s 3ms/step - loss: 0.7419 - accuracy: 0.6468 - val_loss: 0.7359 - val_accuracy: 0.6501\n",
      "Epoch 5/30\n",
      "14003/14003 [==============================] - 40s 3ms/step - loss: 0.7173 - accuracy: 0.6594 - val_loss: 0.7157 - val_accuracy: 0.6618\n",
      "Epoch 6/30\n",
      "14003/14003 [==============================] - 41s 3ms/step - loss: 0.6979 - accuracy: 0.6691 - val_loss: 0.6939 - val_accuracy: 0.6719\n",
      "Epoch 7/30\n",
      "14003/14003 [==============================] - 43s 3ms/step - loss: 0.6833 - accuracy: 0.6766 - val_loss: 0.6821 - val_accuracy: 0.6773\n",
      "Epoch 8/30\n",
      "14003/14003 [==============================] - 41s 3ms/step - loss: 0.6713 - accuracy: 0.6823 - val_loss: 0.6722 - val_accuracy: 0.6828\n",
      "Epoch 9/30\n",
      "14003/14003 [==============================] - 41s 3ms/step - loss: 0.6613 - accuracy: 0.6872 - val_loss: 0.6683 - val_accuracy: 0.6842\n",
      "Epoch 10/30\n",
      "14003/14003 [==============================] - 41s 3ms/step - loss: 0.6524 - accuracy: 0.6915 - val_loss: 0.6522 - val_accuracy: 0.6913\n",
      "Epoch 11/30\n",
      "14003/14003 [==============================] - 41s 3ms/step - loss: 0.6445 - accuracy: 0.6951 - val_loss: 0.6514 - val_accuracy: 0.6931\n",
      "Epoch 12/30\n",
      "14003/14003 [==============================] - 42s 3ms/step - loss: 0.6381 - accuracy: 0.6984 - val_loss: 0.6485 - val_accuracy: 0.6941\n",
      "Epoch 13/30\n",
      "14003/14003 [==============================] - 42s 3ms/step - loss: 0.6327 - accuracy: 0.7008 - val_loss: 0.6404 - val_accuracy: 0.6992\n",
      "Epoch 14/30\n",
      "14003/14003 [==============================] - 42s 3ms/step - loss: 0.6266 - accuracy: 0.7035 - val_loss: 0.6333 - val_accuracy: 0.7024\n",
      "Epoch 15/30\n",
      "14003/14003 [==============================] - 41s 3ms/step - loss: 0.6223 - accuracy: 0.7054 - val_loss: 0.6292 - val_accuracy: 0.7035\n",
      "Epoch 16/30\n",
      "14003/14003 [==============================] - 41s 3ms/step - loss: 0.6179 - accuracy: 0.7075 - val_loss: 0.6294 - val_accuracy: 0.7031\n",
      "Epoch 17/30\n",
      "14003/14003 [==============================] - 43s 3ms/step - loss: 0.6134 - accuracy: 0.7093 - val_loss: 0.6236 - val_accuracy: 0.7067\n",
      "Epoch 18/30\n",
      "14003/14003 [==============================] - 42s 3ms/step - loss: 0.6100 - accuracy: 0.7107 - val_loss: 0.6160 - val_accuracy: 0.7097\n",
      "Epoch 19/30\n",
      "14003/14003 [==============================] - 41s 3ms/step - loss: 0.6063 - accuracy: 0.7125 - val_loss: 0.6089 - val_accuracy: 0.7123\n",
      "Epoch 20/30\n",
      "14003/14003 [==============================] - 43s 3ms/step - loss: 0.6033 - accuracy: 0.7139 - val_loss: 0.6126 - val_accuracy: 0.7108\n",
      "Epoch 21/30\n",
      "14003/14003 [==============================] - 42s 3ms/step - loss: 0.6007 - accuracy: 0.7150 - val_loss: 0.6107 - val_accuracy: 0.7133\n",
      "Epoch 22/30\n",
      "14003/14003 [==============================] - 43s 3ms/step - loss: 0.5976 - accuracy: 0.7162 - val_loss: 0.6061 - val_accuracy: 0.7141\n",
      "Epoch 23/30\n",
      "14003/14003 [==============================] - 42s 3ms/step - loss: 0.5947 - accuracy: 0.7176 - val_loss: 0.5993 - val_accuracy: 0.7172\n",
      "Epoch 24/30\n",
      "14003/14003 [==============================] - 42s 3ms/step - loss: 0.5923 - accuracy: 0.7186 - val_loss: 0.5985 - val_accuracy: 0.7186\n",
      "Epoch 25/30\n",
      "14003/14003 [==============================] - 46s 3ms/step - loss: 0.5899 - accuracy: 0.7197 - val_loss: 0.5982 - val_accuracy: 0.7171\n",
      "Epoch 26/30\n",
      "14003/14003 [==============================] - 41s 3ms/step - loss: 0.5873 - accuracy: 0.7205 - val_loss: 0.5957 - val_accuracy: 0.7186\n",
      "Epoch 27/30\n",
      "14003/14003 [==============================] - 49s 4ms/step - loss: 0.5856 - accuracy: 0.7214 - val_loss: 0.5917 - val_accuracy: 0.7220\n",
      "Epoch 28/30\n",
      "14003/14003 [==============================] - 44s 3ms/step - loss: 0.5834 - accuracy: 0.7225 - val_loss: 0.5882 - val_accuracy: 0.7221\n",
      "Epoch 29/30\n",
      "14003/14003 [==============================] - 41s 3ms/step - loss: 0.5816 - accuracy: 0.7234 - val_loss: 0.5914 - val_accuracy: 0.7207\n",
      "Epoch 30/30\n",
      "14003/14003 [==============================] - 44s 3ms/step - loss: 0.5800 - accuracy: 0.7237 - val_loss: 0.5907 - val_accuracy: 0.7226\n"
     ]
    }
   ],
   "source": [
    "history3 = ann_model3.fit(x_train_ann, y_train_ann, validation_data=(x_test_ann,y_test_ann), epochs=30, batch_size=200, verbose=1)"
   ]
  },
  {
   "cell_type": "code",
   "execution_count": 10,
   "id": "35c65cc5",
   "metadata": {},
   "outputs": [
    {
     "name": "stdout",
     "output_type": "stream",
     "text": [
      "21880/21880 [==============================] - 26s 1ms/step - loss: 0.5907 - accuracy: 0.7226\n",
      "Test loss:  0.5907031893730164\n",
      "Test Accuracy::  0.7225531339645386\n"
     ]
    }
   ],
   "source": [
    "score3 = ann_model3.evaluate(x_test_ann, y_test_ann, verbose=1)\n",
    "print('Test loss: ', score3[0])\n",
    "print('Test Accuracy:: ', score3[1])"
   ]
  },
  {
   "cell_type": "code",
   "execution_count": 11,
   "id": "35594945",
   "metadata": {},
   "outputs": [
    {
     "name": "stdout",
     "output_type": "stream",
     "text": [
      "87517/87517 [==============================] - 91s 1ms/step\n",
      "21880/21880 [==============================] - 25s 1ms/step\n"
     ]
    }
   ],
   "source": [
    "ann_train = ann_model3.predict(x_train_ann)\n",
    "prediction = ann_model3.predict(x_test_ann)\n"
   ]
  },
  {
   "cell_type": "code",
   "execution_count": 12,
   "id": "b084b98b",
   "metadata": {},
   "outputs": [],
   "source": [
    "ann_train1 = np.argmax(ann_train, axis=1)+1\n",
    "predictions1=np.argmax(prediction, axis=1)+1"
   ]
  },
  {
   "cell_type": "code",
   "execution_count": 13,
   "id": "86dd42b0",
   "metadata": {},
   "outputs": [],
   "source": [
    "def plot_cf(y_true, y_pred, class_names=None, model_name=None):\n",
    "    \"\"\"Plots a confusion matrix\"\"\"\n",
    "    fig, ax = plt.subplots(figsize=(12, 6))\n",
    "    cf = confusion_matrix(y_true, y_pred)\n",
    "    plt.imshow(cf, cmap=plt.cm.Blues)\n",
    "    if model_name:\n",
    "        plt.title(\"Confusion Matrix: {}\".format(model_name))\n",
    "    else:\n",
    "        plt.title(\"Confusion Matrix\")\n",
    "    plt.ylabel('True Label')\n",
    "    plt.xlabel('Predicted Label')\n",
    "    \n",
    "    #class_names = set(y_true)\n",
    "    tick_marks = np.arange(len(class_names))\n",
    "    if class_names:\n",
    "        plt.xticks(tick_marks, class_names)\n",
    "        plt.yticks(tick_marks, class_names)\n",
    "    \n",
    "    thresh = cf.max() / 2.\n",
    "    \n",
    "    for i, j in itertools.product(range(cf.shape[0]), range(cf.shape[1])):\n",
    "        plt.text(j, i, cf[i, j], horizontalalignment='center', color='white' if cf[i, j] > thresh else 'black')\n",
    "    plt.colorbar()\n",
    "    plt.show()"
   ]
  },
  {
   "cell_type": "code",
   "execution_count": 14,
   "id": "c16b7e26",
   "metadata": {
    "scrolled": false
   },
   "outputs": [
    {
     "name": "stdout",
     "output_type": "stream",
     "text": [
      "              precision    recall  f1-score   support\n",
      "\n",
      "           1       0.83      0.96      0.89    933540\n",
      "           2       0.66      0.59      0.62    933566\n",
      "           3       0.67      0.63      0.65    933430\n",
      "\n",
      "    accuracy                           0.73   2800536\n",
      "   macro avg       0.72      0.73      0.72   2800536\n",
      "weighted avg       0.72      0.73      0.72   2800536\n",
      "\n",
      "              precision    recall  f1-score   support\n",
      "\n",
      "           1       0.81      0.96      0.88    233350\n",
      "           2       0.66      0.58      0.61    233324\n",
      "           3       0.67      0.63      0.65    233460\n",
      "\n",
      "    accuracy                           0.72    700134\n",
      "   macro avg       0.71      0.72      0.72    700134\n",
      "weighted avg       0.71      0.72      0.72    700134\n",
      "\n"
     ]
    },
    {
     "data": {
      "image/png": "[encoded data removed]",
      "text/plain": [
       "<Figure size 1200x600 with 2 Axes>"
      ]
     },
     "metadata": {},
     "output_type": "display_data"
    }
   ],
   "source": [
    "print(classification_report(y_train, ann_train1))\n",
    "print(classification_report(y_test, predictions1))\n",
    "plot_cf(y_test, predictions1, model_name='ANN', class_names=['Fatal', 'Serious','Slight'])"
   ]
  },
  {
   "cell_type": "code",
   "execution_count": null,
   "id": "88b1d5be",
   "metadata": {},
   "outputs": [],
   "source": []
  }
 ],
 "metadata": {
  "kernelspec": {
   "display_name": "Python 3",
   "language": "python",
   "name": "python3"
  },
  "language_info": {
   "codemirror_mode": {
    "name": "ipython",
    "version": 3
   },
   "file_extension": ".py",
   "mimetype": "text/x-python",
   "name": "python",
   "nbconvert_exporter": "python",
   "pygments_lexer": "ipython3",
   "version": "3.8.8"
  }
 },
 "nbformat": 4,
 "nbformat_minor": 5
}
