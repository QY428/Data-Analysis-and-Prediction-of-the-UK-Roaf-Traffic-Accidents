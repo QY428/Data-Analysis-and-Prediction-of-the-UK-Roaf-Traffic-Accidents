{
 "cells": [
  {
   "cell_type": "code",
   "execution_count": 1,
   "id": "438a97bd",
   "metadata": {},
   "outputs": [
    {
     "name": "stderr",
     "output_type": "stream",
     "text": [
      "D:\\Program Files\\anaconda3\\lib\\site-packages\\numpy\\_distributor_init.py:30: UserWarning: loaded more than 1 DLL from .libs:\n",
      "D:\\Program Files\\anaconda3\\lib\\site-packages\\numpy\\.libs\\libopenblas.EL2C6PLE4ZYW3ECEVIV3OXXGRN2NRFM2.gfortran-win_amd64.dll\n",
      "D:\\Program Files\\anaconda3\\lib\\site-packages\\numpy\\.libs\\libopenblas.FB5AE2TYXYH2IJRDKGDGQ3XBKLKTF43H.gfortran-win_amd64.dll\n",
      "  warnings.warn(\"loaded more than 1 DLL from .libs:\"\n"
     ]
    }
   ],
   "source": [
    "# import the usual suspects ...\n",
    "import pandas as pd\n",
    "import numpy as np\n",
    "import glob\n",
    "\n",
    "import matplotlib.pyplot as plt\n",
    "import seaborn as sns\n",
    "\n",
    "# suppress all warnings\n",
    "import warnings\n",
    "warnings.filterwarnings(\"ignore\")\n",
    "from sklearn.linear_model import LogisticRegression, LinearRegression\n",
    "from sklearn.metrics import classification_report, confusion_matrix, accuracy_score, f1_score, plot_confusion_matrix, roc_auc_score, balanced_accuracy_score, mean_squared_error, r2_score\n",
    "import itertools\n",
    "import pandas as pd\n",
    "import numpy as np\n",
    "pd.set_option('display.max_columns', 50)\n",
    "import matplotlib.pyplot as plt\n",
    "%matplotlib inline\n",
    "np.random.seed(123)\n",
    "import seaborn as sns\n",
    "from sklearn.preprocessing import StandardScaler, MinMaxScaler\n",
    "from sklearn.model_selection import train_test_split\n",
    "from sklearn.metrics import accuracy_score\n",
    "from sklearn.utils import resample\n",
    "from sklearn.ensemble import RandomForestClassifier\n",
    "from sklearn.linear_model import LogisticRegression\n",
    "from sklearn.metrics import classification_report, confusion_matrix\n",
    "from imblearn.over_sampling import SMOTE\n",
    "# import the usual suspects ...\n",
    "import pandas as pd\n",
    "import numpy as np\n",
    "import glob\n",
    "\n",
    "import matplotlib.pyplot as plt\n",
    "import seaborn as sns\n",
    "\n",
    "# suppress all warnings\n",
    "import warnings\n",
    "warnings.filterwarnings(\"ignore\")\n",
    "import tensorflow as tf\n",
    "from tensorflow.keras import layers\n",
    "from tensorflow.keras import utils\n",
    "from tensorflow.keras.layers import Dense\n",
    "import tensorflow as tf\n",
    "from tensorflow.keras import layers\n",
    "from tensorflow.keras import utils\n",
    "from tensorflow.keras.layers import Dense\n",
    "# Import label encoder\n",
    "from sklearn import preprocessing"
   ]
  },
  {
   "cell_type": "code",
   "execution_count": 2,
   "id": "4de2b4bf",
   "metadata": {},
   "outputs": [],
   "source": [
    "from sklearn.preprocessing import StandardScaler, MinMaxScaler"
   ]
  },
  {
   "cell_type": "code",
   "execution_count": 3,
   "id": "cb0e4d79",
   "metadata": {},
   "outputs": [],
   "source": [
    "# Train/Test Split\n",
    "X = pd.read_csv(\"X_re.csv\")\n",
    "y = pd.read_csv(\"y_re.csv\")"
   ]
  },
  {
   "cell_type": "code",
   "execution_count": 4,
   "id": "0ca68727",
   "metadata": {},
   "outputs": [],
   "source": [
    "from sklearn.model_selection import train_test_split\n",
    "\n",
    "# split our data\n",
    "X_train, X_test, y_train, y_test = train_test_split(X, y, test_size=0.2)"
   ]
  },
  {
   "cell_type": "code",
   "execution_count": 5,
   "id": "420fcc57",
   "metadata": {},
   "outputs": [],
   "source": [
    "# Standardization\n",
    "scaler = StandardScaler()\n",
    "X_train = pd.DataFrame(scaler.fit_transform(X_train), columns=list(X_train.columns))\n",
    "X_test = pd.DataFrame(scaler.transform(X_test), columns=list(X_test.columns))"
   ]
  },
  {
   "cell_type": "code",
   "execution_count": 6,
   "id": "5818a908",
   "metadata": {},
   "outputs": [],
   "source": [
    "# label_encoder object knows how to understand word labels.\n",
    "label_encoder = preprocessing.LabelEncoder()\n",
    "\n",
    "# Encode labels in column 'species'.\n",
    "y_train_nn = label_encoder.fit_transform(y_train)\n",
    "y_test_nn = label_encoder.fit_transform(y_test)\n",
    "\n",
    "x_train_ann = X_train\n",
    "x_test_ann = X_test"
   ]
  },
  {
   "cell_type": "code",
   "execution_count": 7,
   "id": "66ccba8b",
   "metadata": {},
   "outputs": [],
   "source": [
    "num_classes = 3\n",
    "y_train_ann = utils.to_categorical(y_train_nn, num_classes)\n",
    "y_test_ann = utils.to_categorical(y_test_nn, num_classes)\n",
    "num_features = x_test_ann.shape[1]\n",
    "num_classes = y_train_ann.shape[1]"
   ]
  },
  {
   "cell_type": "code",
   "execution_count": 8,
   "id": "9cd4ab56",
   "metadata": {},
   "outputs": [],
   "source": [
    "ann_model3 = tf.keras.Sequential()\n",
    "ann_model3.add(Dense(512, kernel_initializer='normal', activation='sigmoid', input_shape=(27,)))\n",
    "ann_model3.add(Dense(64, kernel_initializer='normal', activation='sigmoid'))\n",
    "ann_model3.add(Dense(num_classes, kernel_initializer='normal', activation='softmax'))\n",
    "ann_model3.compile(loss='categorical_crossentropy', optimizer='adam', metrics=['accuracy'])"
   ]
  },
  {
   "cell_type": "code",
   "execution_count": 9,
   "id": "92a1e9d0",
   "metadata": {},
   "outputs": [
    {
     "name": "stdout",
     "output_type": "stream",
     "text": [
      "Epoch 1/5\n",
      "14003/14003 [==============================] - 40s 3ms/step - loss: 0.9358 - accuracy: 0.5341 - val_loss: 0.9213 - val_accuracy: 0.5448\n",
      "Epoch 2/5\n",
      "14003/14003 [==============================] - 39s 3ms/step - loss: 0.9147 - accuracy: 0.5494 - val_loss: 0.9060 - val_accuracy: 0.5559\n",
      "Epoch 3/5\n",
      "14003/14003 [==============================] - 40s 3ms/step - loss: 0.8974 - accuracy: 0.5609 - val_loss: 0.8851 - val_accuracy: 0.5696\n",
      "Epoch 4/5\n",
      "14003/14003 [==============================] - 41s 3ms/step - loss: 0.8732 - accuracy: 0.5776 - val_loss: 0.8590 - val_accuracy: 0.5876\n",
      "Epoch 5/5\n",
      "14003/14003 [==============================] - 41s 3ms/step - loss: 0.8449 - accuracy: 0.5949 - val_loss: 0.8334 - val_accuracy: 0.6024\n"
     ]
    }
   ],
   "source": [
    "history3 = ann_model3.fit(x_train_ann, y_train_ann, validation_data=(x_test_ann,y_test_ann), epochs=5, batch_size=200, verbose=1)"
   ]
  },
  {
   "cell_type": "code",
   "execution_count": 10,
   "id": "35c65cc5",
   "metadata": {},
   "outputs": [
    {
     "name": "stdout",
     "output_type": "stream",
     "text": [
      "21880/21880 [==============================] - 40s 2ms/step - loss: 0.8334 - accuracy: 0.6024\n",
      "Test loss:  0.8334228992462158\n",
      "Test Accuracy::  0.6023589968681335\n"
     ]
    }
   ],
   "source": [
    "score3 = ann_model3.evaluate(x_test_ann, y_test_ann, verbose=1)\n",
    "print('Test loss: ', score3[0])\n",
    "print('Test Accuracy:: ', score3[1])"
   ]
  },
  {
   "cell_type": "code",
   "execution_count": 16,
   "id": "5ff182cb",
   "metadata": {},
   "outputs": [
    {
     "name": "stdout",
     "output_type": "stream",
     "text": [
      "21880/21880 [==============================] - 32s 1ms/step - loss: 0.8334 - accuracy: 0.6024\n",
      "Test loss:  0.8334228992462158\n",
      "Test Accuracy:  0.6023589968681335\n"
     ]
    }
   ],
   "source": [
    "score3 = ann_model3.evaluate(x_test_ann, y_test_ann, verbose=1)\n",
    "print('Test loss: ', score3[0])\n",
    "print('Test Accuracy: ', score3[1])"
   ]
  },
  {
   "cell_type": "code",
   "execution_count": 12,
   "id": "56e78865",
   "metadata": {},
   "outputs": [
    {
     "name": "stdout",
     "output_type": "stream",
     "text": [
      "87517/87517 [==============================] - 106s 1ms/step\n",
      "21880/21880 [==============================] - 28s 1ms/step\n"
     ]
    }
   ],
   "source": [
    "ann_train = ann_model3.predict(x_train_ann)\n",
    "prediction = ann_model3.predict(x_test_ann)\n"
   ]
  },
  {
   "cell_type": "code",
   "execution_count": 13,
   "id": "e98b23a4",
   "metadata": {},
   "outputs": [],
   "source": [
    "ann_train1 = np.argmax(ann_train, axis=1)+1\n",
    "predictions1=np.argmax(prediction, axis=1)+1"
   ]
  },
  {
   "cell_type": "code",
   "execution_count": 14,
   "id": "8977dba3",
   "metadata": {},
   "outputs": [],
   "source": [
    "def plot_cf(y_true, y_pred, class_names=None, model_name=None):\n",
    "    \"\"\"Plots a confusion matrix\"\"\"\n",
    "    fig, ax = plt.subplots(figsize=(12, 6))\n",
    "    cf = confusion_matrix(y_true, y_pred)\n",
    "    plt.imshow(cf, cmap=plt.cm.Blues)\n",
    "    if model_name:\n",
    "        plt.title(\"Confusion Matrix: {}\".format(model_name))\n",
    "    else:\n",
    "        plt.title(\"Confusion Matrix\")\n",
    "    plt.ylabel('True Label')\n",
    "    plt.xlabel('Predicted Label')\n",
    "    \n",
    "    #class_names = set(y_true)\n",
    "    tick_marks = np.arange(len(class_names))\n",
    "    if class_names:\n",
    "        plt.xticks(tick_marks, class_names)\n",
    "        plt.yticks(tick_marks, class_names)\n",
    "    \n",
    "    thresh = cf.max() / 2.\n",
    "    \n",
    "    for i, j in itertools.product(range(cf.shape[0]), range(cf.shape[1])):\n",
    "        plt.text(j, i, cf[i, j], horizontalalignment='center', color='white' if cf[i, j] > thresh else 'black')\n",
    "    plt.colorbar()\n",
    "    plt.show()"
   ]
  },
  {
   "cell_type": "code",
   "execution_count": 15,
   "id": "02a4d84f",
   "metadata": {},
   "outputs": [
    {
     "name": "stdout",
     "output_type": "stream",
     "text": [
      "              precision    recall  f1-score   support\n",
      "\n",
      "           1       0.64      0.74      0.69    933540\n",
      "           2       0.54      0.43      0.48    933566\n",
      "           3       0.62      0.64      0.63    933430\n",
      "\n",
      "    accuracy                           0.60   2800536\n",
      "   macro avg       0.60      0.60      0.60   2800536\n",
      "weighted avg       0.60      0.60      0.60   2800536\n",
      "\n",
      "              precision    recall  f1-score   support\n",
      "\n",
      "           1       0.64      0.74      0.68    233350\n",
      "           2       0.53      0.43      0.48    233324\n",
      "           3       0.62      0.64      0.63    233460\n",
      "\n",
      "    accuracy                           0.60    700134\n",
      "   macro avg       0.60      0.60      0.60    700134\n",
      "weighted avg       0.60      0.60      0.60    700134\n",
      "\n"
     ]
    },
    {
     "data": {
      "image/png": "[encoded data removed]",
      "text/plain": [
       "<Figure size 1200x600 with 2 Axes>"
      ]
     },
     "metadata": {},
     "output_type": "display_data"
    }
   ],
   "source": [
    "print(classification_report(y_train, ann_train1))\n",
    "print(classification_report(y_test, predictions1))\n",
    "plot_cf(y_test, predictions1, model_name='ANN', class_names=['Fatal', 'Serious','Slight'])"
   ]
  }
 ],
 "metadata": {
  "kernelspec": {
   "display_name": "Python 3",
   "language": "python",
   "name": "python3"
  },
  "language_info": {
   "codemirror_mode": {
    "name": "ipython",
    "version": 3
   },
   "file_extension": ".py",
   "mimetype": "text/x-python",
   "name": "python",
   "nbconvert_exporter": "python",
   "pygments_lexer": "ipython3",
   "version": "3.8.8"
  }
 },
 "nbformat": 4,
 "nbformat_minor": 5
}
