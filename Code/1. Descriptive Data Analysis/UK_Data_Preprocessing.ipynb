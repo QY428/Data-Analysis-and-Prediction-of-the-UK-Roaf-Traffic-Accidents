{
 "cells": [
  {
   "cell_type": "code",
   "execution_count": 1,
   "id": "774eb26a",
   "metadata": {},
   "outputs": [
    {
     "name": "stderr",
     "output_type": "stream",
     "text": [
      "D:\\Program Files\\anaconda3\\lib\\site-packages\\numpy\\_distributor_init.py:30: UserWarning: loaded more than 1 DLL from .libs:\n",
      "D:\\Program Files\\anaconda3\\lib\\site-packages\\numpy\\.libs\\libopenblas.EL2C6PLE4ZYW3ECEVIV3OXXGRN2NRFM2.gfortran-win_amd64.dll\n",
      "D:\\Program Files\\anaconda3\\lib\\site-packages\\numpy\\.libs\\libopenblas.FB5AE2TYXYH2IJRDKGDGQ3XBKLKTF43H.gfortran-win_amd64.dll\n",
      "  warnings.warn(\"loaded more than 1 DLL from .libs:\"\n"
     ]
    }
   ],
   "source": [
    "# import the usual suspects ...\n",
    "import pandas as pd\n",
    "import numpy as np\n",
    "import glob\n",
    "\n",
    "import matplotlib.pyplot as plt\n",
    "import seaborn as sns\n",
    "\n",
    "# suppress all warnings\n",
    "import warnings\n",
    "warnings.filterwarnings(\"ignore\")"
   ]
  },
  {
   "cell_type": "markdown",
   "id": "d986a768",
   "metadata": {},
   "source": [
    "# Data preprocessing"
   ]
  },
  {
   "cell_type": "markdown",
   "id": "cbfeace3",
   "metadata": {},
   "source": [
    "## Data Reduction & Cleaning"
   ]
  },
  {
   "cell_type": "code",
   "execution_count": 2,
   "id": "14c36250",
   "metadata": {},
   "outputs": [],
   "source": [
    "accidents = pd.read_csv(\"Accidents.csv\")"
   ]
  },
  {
   "cell_type": "code",
   "execution_count": 3,
   "id": "1dc60ef3",
   "metadata": {},
   "outputs": [],
   "source": [
    "accidents = accidents.drop(columns = ['1st_Road_Number','2nd_Road_Number','Did_Police_Officer_Attend_Scene_of_Accident',\n",
    "                                      'Local_Authority_(Highway)','Location_Easting_OSGR','Pedestrian_Crossing-Human_Control', \n",
    "                                     'Pedestrian_Crossing-Physical_Facilities',\"Local_Authority_ONS_District\",\"Trunk_Road_Flag\",\n",
    "                                     'Location_Northing_OSGR','LSOA_of_Accident_Location'\n",
    "                                     ])"
   ]
  },
  {
   "cell_type": "code",
   "execution_count": 4,
   "id": "5fc166e6",
   "metadata": {},
   "outputs": [],
   "source": [
    "df = accidents.copy()"
   ]
  },
  {
   "cell_type": "code",
   "execution_count": 5,
   "id": "36918b16",
   "metadata": {
    "scrolled": false
   },
   "outputs": [
    {
     "name": "stdout",
     "output_type": "stream",
     "text": [
      "<class 'pandas.core.frame.DataFrame'>\n",
      "RangeIndex: 3122904 entries, 0 to 3122903\n",
      "Data columns (total 25 columns):\n",
      " #   Column                      Dtype  \n",
      "---  ------                      -----  \n",
      " 0   Accident_Index              object \n",
      " 1   1st_Road_Class              int64  \n",
      " 2   2nd_Road_Class              int64  \n",
      " 3   Accident_Reference          object \n",
      " 4   Accident_Severity           int64  \n",
      " 5   Carriageway_Hazards         int64  \n",
      " 6   Date                        object \n",
      " 7   Day_of_Week                 int64  \n",
      " 8   Junction_Control            int64  \n",
      " 9   Junction_Detail             int64  \n",
      " 10  Latitude                    float64\n",
      " 11  Light_Conditions            int64  \n",
      " 12  Local_Authority_(District)  int64  \n",
      " 13  Longitude                   float64\n",
      " 14  Number_of_Casualties        int64  \n",
      " 15  Number_of_Vehicles          int64  \n",
      " 16  Police_Force                int64  \n",
      " 17  Road_Surface_Conditions     int64  \n",
      " 18  Road_Type                   int64  \n",
      " 19  Special_Conditions_at_Site  int64  \n",
      " 20  Speed_limit                 float64\n",
      " 21  Time                        object \n",
      " 22  Urban_or_Rural_Area         int64  \n",
      " 23  Weather_Conditions          int64  \n",
      " 24  Year                        int64  \n",
      "dtypes: float64(3), int64(18), object(4)\n",
      "memory usage: 595.6+ MB\n"
     ]
    }
   ],
   "source": [
    "df.info()"
   ]
  },
  {
   "cell_type": "code",
   "execution_count": 6,
   "id": "7b9e8e5d",
   "metadata": {},
   "outputs": [],
   "source": [
    "df['1st_Road_Class'] = df['1st_Road_Class'].replace(6,np.nan)\n",
    "df['2nd_Road_Class'] = df['2nd_Road_Class'].replace(6,np.nan)\n",
    "df['Carriageway_Hazards'] = df['Carriageway_Hazards'].replace(9,np.nan)\n",
    "df['Junction_Control'] = df['Junction_Control'].replace(9,np.nan)\n",
    "df['Junction_Detail'] = df['Junction_Detail'].replace(99,np.nan)\n",
    "df['Light_Conditions'] = df['Light_Conditions'].replace(7,np.nan)\n",
    "df['Police_Force'] = df['Road_Surface_Conditions'].replace(99,np.nan)\n",
    "df['Road_Surface_Conditions'] = df['Road_Surface_Conditions'].replace(9,np.nan)\n",
    "df['Road_Type'] = df['Road_Type'].replace(9,np.nan)\n",
    "df['Special_Conditions_at_Site'] = df['Special_Conditions_at_Site'].replace(9,np.nan)\n",
    "df['Speed_limit'] = df['Speed_limit'].replace(99,np.nan)\n",
    "df['Urban_or_Rural_Area'] = df['Urban_or_Rural_Area'].replace(3,np.nan)\n",
    "df['Weather_Conditions'] = df['Weather_Conditions'].replace(9,np.nan)"
   ]
  },
  {
   "cell_type": "code",
   "execution_count": 7,
   "id": "d67aa49d",
   "metadata": {},
   "outputs": [],
   "source": [
    "df = df.replace(-1,np.nan)"
   ]
  },
  {
   "cell_type": "code",
   "execution_count": 8,
   "id": "594f4ba3",
   "metadata": {},
   "outputs": [
    {
     "data": {
      "text/plain": [
       "Accident_Index                      0\n",
       "1st_Road_Class                 938094\n",
       "2nd_Road_Class                2458762\n",
       "Accident_Reference                  0\n",
       "Accident_Severity                   0\n",
       "Carriageway_Hazards              9039\n",
       "Date                                0\n",
       "Day_of_Week                         0\n",
       "Junction_Control              1204034\n",
       "Junction_Detail                  6607\n",
       "Latitude                         1153\n",
       "Light_Conditions                38761\n",
       "Local_Authority_(District)     101884\n",
       "Longitude                        1154\n",
       "Number_of_Casualties                0\n",
       "Number_of_Vehicles                  0\n",
       "Police_Force                     5619\n",
       "Road_Surface_Conditions         11298\n",
       "Road_Type                       27268\n",
       "Special_Conditions_at_Site      10138\n",
       "Speed_limit                       129\n",
       "Time                                0\n",
       "Urban_or_Rural_Area              1296\n",
       "Weather_Conditions              64239\n",
       "Year                                0\n",
       "dtype: int64"
      ]
     },
     "execution_count": 8,
     "metadata": {},
     "output_type": "execute_result"
    }
   ],
   "source": [
    "df.isna().sum()"
   ]
  },
  {
   "cell_type": "code",
   "execution_count": 9,
   "id": "08d93364",
   "metadata": {},
   "outputs": [],
   "source": [
    "df = df.drop(columns = ['2nd_Road_Class','Junction_Control'])"
   ]
  },
  {
   "cell_type": "code",
   "execution_count": 10,
   "id": "6e5689fe",
   "metadata": {},
   "outputs": [],
   "source": [
    "df = df.dropna()"
   ]
  },
  {
   "cell_type": "code",
   "execution_count": 11,
   "id": "0269f322",
   "metadata": {},
   "outputs": [
    {
     "data": {
      "text/plain": [
       "0"
      ]
     },
     "execution_count": 11,
     "metadata": {},
     "output_type": "execute_result"
    }
   ],
   "source": [
    "df.isna().sum().sum()"
   ]
  },
  {
   "cell_type": "code",
   "execution_count": 12,
   "id": "03ab00cd",
   "metadata": {},
   "outputs": [
    {
     "name": "stdout",
     "output_type": "stream",
     "text": [
      "<class 'pandas.core.frame.DataFrame'>\n",
      "Int64Index: 2044990 entries, 0 to 3091734\n",
      "Data columns (total 23 columns):\n",
      " #   Column                      Dtype  \n",
      "---  ------                      -----  \n",
      " 0   Accident_Index              object \n",
      " 1   1st_Road_Class              float64\n",
      " 2   Accident_Reference          object \n",
      " 3   Accident_Severity           int64  \n",
      " 4   Carriageway_Hazards         float64\n",
      " 5   Date                        object \n",
      " 6   Day_of_Week                 int64  \n",
      " 7   Junction_Detail             float64\n",
      " 8   Latitude                    float64\n",
      " 9   Light_Conditions            float64\n",
      " 10  Local_Authority_(District)  float64\n",
      " 11  Longitude                   float64\n",
      " 12  Number_of_Casualties        int64  \n",
      " 13  Number_of_Vehicles          int64  \n",
      " 14  Police_Force                float64\n",
      " 15  Road_Surface_Conditions     float64\n",
      " 16  Road_Type                   float64\n",
      " 17  Special_Conditions_at_Site  float64\n",
      " 18  Speed_limit                 float64\n",
      " 19  Time                        object \n",
      " 20  Urban_or_Rural_Area         float64\n",
      " 21  Weather_Conditions          float64\n",
      " 22  Year                        int64  \n",
      "dtypes: float64(14), int64(5), object(4)\n",
      "memory usage: 374.4+ MB\n"
     ]
    }
   ],
   "source": [
    "df.info()"
   ]
  },
  {
   "cell_type": "code",
   "execution_count": 13,
   "id": "e93cff2a",
   "metadata": {},
   "outputs": [],
   "source": [
    "df_a = df.copy()"
   ]
  },
  {
   "cell_type": "code",
   "execution_count": 14,
   "id": "ba921eef",
   "metadata": {},
   "outputs": [],
   "source": [
    "df.to_csv(\"Accidents_Cleaned.csv\",index = None)"
   ]
  },
  {
   "cell_type": "code",
   "execution_count": 15,
   "id": "6cdb730a",
   "metadata": {},
   "outputs": [],
   "source": [
    "vehicles = pd.read_csv(\"Vehicles.csv\")"
   ]
  },
  {
   "cell_type": "code",
   "execution_count": 16,
   "id": "49024a85",
   "metadata": {},
   "outputs": [
    {
     "data": {
      "text/html": [
       "<div>\n",
       "<style scoped>\n",
       "    .dataframe tbody tr th:only-of-type {\n",
       "        vertical-align: middle;\n",
       "    }\n",
       "\n",
       "    .dataframe tbody tr th {\n",
       "        vertical-align: top;\n",
       "    }\n",
       "\n",
       "    .dataframe thead th {\n",
       "        text-align: right;\n",
       "    }\n",
       "</style>\n",
       "<table border=\"1\" class=\"dataframe\">\n",
       "  <thead>\n",
       "    <tr style=\"text-align: right;\">\n",
       "      <th></th>\n",
       "      <th>Accident_Index</th>\n",
       "      <th>Accident_Reference</th>\n",
       "      <th>Age_Band_of_Driver</th>\n",
       "      <th>Age_of_Driver</th>\n",
       "      <th>Age_of_Vehicle</th>\n",
       "      <th>Driver_Home_Area_Type</th>\n",
       "      <th>Driver_IMD_Decile</th>\n",
       "      <th>Engine_Capacity_.CC.</th>\n",
       "      <th>Generic_Make_Model</th>\n",
       "      <th>Hit_Object_in_Carriageway</th>\n",
       "      <th>...</th>\n",
       "      <th>Vehicle_Direction_From</th>\n",
       "      <th>Vehicle_Direction_To</th>\n",
       "      <th>Vehicle_Leaving_Carriageway</th>\n",
       "      <th>Vehicle_Location_Restricted_Lane</th>\n",
       "      <th>Vehicle_Manoeuvre</th>\n",
       "      <th>Vehicle_Reference</th>\n",
       "      <th>Vehicle_Type</th>\n",
       "      <th>Was_Vehicle_Left_Hand_Drive</th>\n",
       "      <th>Year</th>\n",
       "      <th>1st_Point_of_Impact</th>\n",
       "    </tr>\n",
       "  </thead>\n",
       "  <tbody>\n",
       "    <tr>\n",
       "      <th>0</th>\n",
       "      <td>200201BS00001</td>\n",
       "      <td>01BS00001</td>\n",
       "      <td>7</td>\n",
       "      <td>42</td>\n",
       "      <td>-1</td>\n",
       "      <td>1</td>\n",
       "      <td>-1</td>\n",
       "      <td>-1</td>\n",
       "      <td>-1</td>\n",
       "      <td>0</td>\n",
       "      <td>...</td>\n",
       "      <td>2</td>\n",
       "      <td>2</td>\n",
       "      <td>0</td>\n",
       "      <td>0</td>\n",
       "      <td>6</td>\n",
       "      <td>1</td>\n",
       "      <td>109</td>\n",
       "      <td>-1</td>\n",
       "      <td>2002</td>\n",
       "      <td>3</td>\n",
       "    </tr>\n",
       "    <tr>\n",
       "      <th>1</th>\n",
       "      <td>200201BS00001</td>\n",
       "      <td>01BS00001</td>\n",
       "      <td>7</td>\n",
       "      <td>39</td>\n",
       "      <td>-1</td>\n",
       "      <td>-1</td>\n",
       "      <td>-1</td>\n",
       "      <td>-1</td>\n",
       "      <td>-1</td>\n",
       "      <td>0</td>\n",
       "      <td>...</td>\n",
       "      <td>8</td>\n",
       "      <td>4</td>\n",
       "      <td>0</td>\n",
       "      <td>0</td>\n",
       "      <td>18</td>\n",
       "      <td>2</td>\n",
       "      <td>109</td>\n",
       "      <td>-1</td>\n",
       "      <td>2002</td>\n",
       "      <td>1</td>\n",
       "    </tr>\n",
       "    <tr>\n",
       "      <th>2</th>\n",
       "      <td>200201BS00002</td>\n",
       "      <td>01BS00002</td>\n",
       "      <td>9</td>\n",
       "      <td>64</td>\n",
       "      <td>-1</td>\n",
       "      <td>-1</td>\n",
       "      <td>-1</td>\n",
       "      <td>-1</td>\n",
       "      <td>-1</td>\n",
       "      <td>0</td>\n",
       "      <td>...</td>\n",
       "      <td>2</td>\n",
       "      <td>6</td>\n",
       "      <td>0</td>\n",
       "      <td>0</td>\n",
       "      <td>4</td>\n",
       "      <td>1</td>\n",
       "      <td>109</td>\n",
       "      <td>-1</td>\n",
       "      <td>2002</td>\n",
       "      <td>1</td>\n",
       "    </tr>\n",
       "    <tr>\n",
       "      <th>3</th>\n",
       "      <td>200201BS00002</td>\n",
       "      <td>01BS00002</td>\n",
       "      <td>8</td>\n",
       "      <td>46</td>\n",
       "      <td>2</td>\n",
       "      <td>1</td>\n",
       "      <td>-1</td>\n",
       "      <td>2496</td>\n",
       "      <td>-1</td>\n",
       "      <td>0</td>\n",
       "      <td>...</td>\n",
       "      <td>2</td>\n",
       "      <td>6</td>\n",
       "      <td>0</td>\n",
       "      <td>0</td>\n",
       "      <td>18</td>\n",
       "      <td>2</td>\n",
       "      <td>109</td>\n",
       "      <td>-1</td>\n",
       "      <td>2002</td>\n",
       "      <td>1</td>\n",
       "    </tr>\n",
       "    <tr>\n",
       "      <th>4</th>\n",
       "      <td>200201BS00003</td>\n",
       "      <td>01BS00003</td>\n",
       "      <td>7</td>\n",
       "      <td>40</td>\n",
       "      <td>-1</td>\n",
       "      <td>1</td>\n",
       "      <td>-1</td>\n",
       "      <td>-1</td>\n",
       "      <td>-1</td>\n",
       "      <td>0</td>\n",
       "      <td>...</td>\n",
       "      <td>8</td>\n",
       "      <td>4</td>\n",
       "      <td>0</td>\n",
       "      <td>0</td>\n",
       "      <td>4</td>\n",
       "      <td>1</td>\n",
       "      <td>3</td>\n",
       "      <td>-1</td>\n",
       "      <td>2002</td>\n",
       "      <td>1</td>\n",
       "    </tr>\n",
       "    <tr>\n",
       "      <th>...</th>\n",
       "      <td>...</td>\n",
       "      <td>...</td>\n",
       "      <td>...</td>\n",
       "      <td>...</td>\n",
       "      <td>...</td>\n",
       "      <td>...</td>\n",
       "      <td>...</td>\n",
       "      <td>...</td>\n",
       "      <td>...</td>\n",
       "      <td>...</td>\n",
       "      <td>...</td>\n",
       "      <td>...</td>\n",
       "      <td>...</td>\n",
       "      <td>...</td>\n",
       "      <td>...</td>\n",
       "      <td>...</td>\n",
       "      <td>...</td>\n",
       "      <td>...</td>\n",
       "      <td>...</td>\n",
       "      <td>...</td>\n",
       "      <td>...</td>\n",
       "    </tr>\n",
       "    <tr>\n",
       "      <th>5730491</th>\n",
       "      <td>2021991196607</td>\n",
       "      <td>991196607</td>\n",
       "      <td>9</td>\n",
       "      <td>61</td>\n",
       "      <td>-1</td>\n",
       "      <td>2</td>\n",
       "      <td>9</td>\n",
       "      <td>-1</td>\n",
       "      <td>-1</td>\n",
       "      <td>0</td>\n",
       "      <td>...</td>\n",
       "      <td>1</td>\n",
       "      <td>5</td>\n",
       "      <td>1</td>\n",
       "      <td>0</td>\n",
       "      <td>18</td>\n",
       "      <td>2</td>\n",
       "      <td>9</td>\n",
       "      <td>1</td>\n",
       "      <td>2021</td>\n",
       "      <td>3</td>\n",
       "    </tr>\n",
       "    <tr>\n",
       "      <th>5730492</th>\n",
       "      <td>2021991197944</td>\n",
       "      <td>991197944</td>\n",
       "      <td>8</td>\n",
       "      <td>51</td>\n",
       "      <td>-1</td>\n",
       "      <td>3</td>\n",
       "      <td>5</td>\n",
       "      <td>-1</td>\n",
       "      <td>-1</td>\n",
       "      <td>0</td>\n",
       "      <td>...</td>\n",
       "      <td>3</td>\n",
       "      <td>7</td>\n",
       "      <td>0</td>\n",
       "      <td>0</td>\n",
       "      <td>18</td>\n",
       "      <td>1</td>\n",
       "      <td>9</td>\n",
       "      <td>1</td>\n",
       "      <td>2021</td>\n",
       "      <td>0</td>\n",
       "    </tr>\n",
       "    <tr>\n",
       "      <th>5730493</th>\n",
       "      <td>2021991200639</td>\n",
       "      <td>991200639</td>\n",
       "      <td>5</td>\n",
       "      <td>24</td>\n",
       "      <td>-1</td>\n",
       "      <td>1</td>\n",
       "      <td>4</td>\n",
       "      <td>-1</td>\n",
       "      <td>-1</td>\n",
       "      <td>0</td>\n",
       "      <td>...</td>\n",
       "      <td>4</td>\n",
       "      <td>8</td>\n",
       "      <td>0</td>\n",
       "      <td>0</td>\n",
       "      <td>18</td>\n",
       "      <td>1</td>\n",
       "      <td>9</td>\n",
       "      <td>1</td>\n",
       "      <td>2021</td>\n",
       "      <td>1</td>\n",
       "    </tr>\n",
       "    <tr>\n",
       "      <th>5730494</th>\n",
       "      <td>2021991201030</td>\n",
       "      <td>991201030</td>\n",
       "      <td>6</td>\n",
       "      <td>28</td>\n",
       "      <td>-1</td>\n",
       "      <td>2</td>\n",
       "      <td>5</td>\n",
       "      <td>-1</td>\n",
       "      <td>-1</td>\n",
       "      <td>2</td>\n",
       "      <td>...</td>\n",
       "      <td>2</td>\n",
       "      <td>6</td>\n",
       "      <td>0</td>\n",
       "      <td>0</td>\n",
       "      <td>18</td>\n",
       "      <td>1</td>\n",
       "      <td>9</td>\n",
       "      <td>1</td>\n",
       "      <td>2021</td>\n",
       "      <td>1</td>\n",
       "    </tr>\n",
       "    <tr>\n",
       "      <th>5730495</th>\n",
       "      <td>2021991201030</td>\n",
       "      <td>991201030</td>\n",
       "      <td>9</td>\n",
       "      <td>58</td>\n",
       "      <td>-1</td>\n",
       "      <td>3</td>\n",
       "      <td>5</td>\n",
       "      <td>-1</td>\n",
       "      <td>-1</td>\n",
       "      <td>0</td>\n",
       "      <td>...</td>\n",
       "      <td>2</td>\n",
       "      <td>6</td>\n",
       "      <td>0</td>\n",
       "      <td>0</td>\n",
       "      <td>18</td>\n",
       "      <td>2</td>\n",
       "      <td>17</td>\n",
       "      <td>1</td>\n",
       "      <td>2021</td>\n",
       "      <td>2</td>\n",
       "    </tr>\n",
       "  </tbody>\n",
       "</table>\n",
       "<p>5730496 rows × 28 columns</p>\n",
       "</div>"
      ],
      "text/plain": [
       "        Accident_Index Accident_Reference  Age_Band_of_Driver  Age_of_Driver  \\\n",
       "0        200201BS00001          01BS00001                   7             42   \n",
       "1        200201BS00001          01BS00001                   7             39   \n",
       "2        200201BS00002          01BS00002                   9             64   \n",
       "3        200201BS00002          01BS00002                   8             46   \n",
       "4        200201BS00003          01BS00003                   7             40   \n",
       "...                ...                ...                 ...            ...   \n",
       "5730491  2021991196607          991196607                   9             61   \n",
       "5730492  2021991197944          991197944                   8             51   \n",
       "5730493  2021991200639          991200639                   5             24   \n",
       "5730494  2021991201030          991201030                   6             28   \n",
       "5730495  2021991201030          991201030                   9             58   \n",
       "\n",
       "         Age_of_Vehicle  Driver_Home_Area_Type  Driver_IMD_Decile  \\\n",
       "0                    -1                      1                 -1   \n",
       "1                    -1                     -1                 -1   \n",
       "2                    -1                     -1                 -1   \n",
       "3                     2                      1                 -1   \n",
       "4                    -1                      1                 -1   \n",
       "...                 ...                    ...                ...   \n",
       "5730491              -1                      2                  9   \n",
       "5730492              -1                      3                  5   \n",
       "5730493              -1                      1                  4   \n",
       "5730494              -1                      2                  5   \n",
       "5730495              -1                      3                  5   \n",
       "\n",
       "         Engine_Capacity_.CC. Generic_Make_Model  Hit_Object_in_Carriageway  \\\n",
       "0                          -1                 -1                          0   \n",
       "1                          -1                 -1                          0   \n",
       "2                          -1                 -1                          0   \n",
       "3                        2496                 -1                          0   \n",
       "4                          -1                 -1                          0   \n",
       "...                       ...                ...                        ...   \n",
       "5730491                    -1                 -1                          0   \n",
       "5730492                    -1                 -1                          0   \n",
       "5730493                    -1                 -1                          0   \n",
       "5730494                    -1                 -1                          2   \n",
       "5730495                    -1                 -1                          0   \n",
       "\n",
       "         ...  Vehicle_Direction_From  Vehicle_Direction_To  \\\n",
       "0        ...                       2                     2   \n",
       "1        ...                       8                     4   \n",
       "2        ...                       2                     6   \n",
       "3        ...                       2                     6   \n",
       "4        ...                       8                     4   \n",
       "...      ...                     ...                   ...   \n",
       "5730491  ...                       1                     5   \n",
       "5730492  ...                       3                     7   \n",
       "5730493  ...                       4                     8   \n",
       "5730494  ...                       2                     6   \n",
       "5730495  ...                       2                     6   \n",
       "\n",
       "         Vehicle_Leaving_Carriageway Vehicle_Location_Restricted_Lane  \\\n",
       "0                                  0                                0   \n",
       "1                                  0                                0   \n",
       "2                                  0                                0   \n",
       "3                                  0                                0   \n",
       "4                                  0                                0   \n",
       "...                              ...                              ...   \n",
       "5730491                            1                                0   \n",
       "5730492                            0                                0   \n",
       "5730493                            0                                0   \n",
       "5730494                            0                                0   \n",
       "5730495                            0                                0   \n",
       "\n",
       "         Vehicle_Manoeuvre  Vehicle_Reference  Vehicle_Type  \\\n",
       "0                        6                  1           109   \n",
       "1                       18                  2           109   \n",
       "2                        4                  1           109   \n",
       "3                       18                  2           109   \n",
       "4                        4                  1             3   \n",
       "...                    ...                ...           ...   \n",
       "5730491                 18                  2             9   \n",
       "5730492                 18                  1             9   \n",
       "5730493                 18                  1             9   \n",
       "5730494                 18                  1             9   \n",
       "5730495                 18                  2            17   \n",
       "\n",
       "         Was_Vehicle_Left_Hand_Drive  Year  1st_Point_of_Impact  \n",
       "0                                 -1  2002                    3  \n",
       "1                                 -1  2002                    1  \n",
       "2                                 -1  2002                    1  \n",
       "3                                 -1  2002                    1  \n",
       "4                                 -1  2002                    1  \n",
       "...                              ...   ...                  ...  \n",
       "5730491                            1  2021                    3  \n",
       "5730492                            1  2021                    0  \n",
       "5730493                            1  2021                    1  \n",
       "5730494                            1  2021                    1  \n",
       "5730495                            1  2021                    2  \n",
       "\n",
       "[5730496 rows x 28 columns]"
      ]
     },
     "execution_count": 16,
     "metadata": {},
     "output_type": "execute_result"
    }
   ],
   "source": [
    "vehicles"
   ]
  },
  {
   "cell_type": "code",
   "execution_count": 17,
   "id": "10ac6bd9",
   "metadata": {},
   "outputs": [],
   "source": [
    "vehicles = vehicles.drop(columns = ['Age_of_Driver','Driver_Home_Area_Type','Driver_IMD_Decile','Generic_Make_Model','LSOA_of_Driver',\"Year\"])"
   ]
  },
  {
   "cell_type": "code",
   "execution_count": 18,
   "id": "a4513022",
   "metadata": {},
   "outputs": [
    {
     "name": "stdout",
     "output_type": "stream",
     "text": [
      "<class 'pandas.core.frame.DataFrame'>\n",
      "RangeIndex: 5730496 entries, 0 to 5730495\n",
      "Data columns (total 22 columns):\n",
      " #   Column                            Dtype \n",
      "---  ------                            ----- \n",
      " 0   Accident_Index                    object\n",
      " 1   Accident_Reference                object\n",
      " 2   Age_Band_of_Driver                int64 \n",
      " 3   Age_of_Vehicle                    int64 \n",
      " 4   Engine_Capacity_.CC.              int64 \n",
      " 5   Hit_Object_in_Carriageway         int64 \n",
      " 6   Hit_Object_off_Carriageway        int64 \n",
      " 7   Journey_Purpose_of_Driver         int64 \n",
      " 8   Junction_Location                 int64 \n",
      " 9   Propulsion_Code                   int64 \n",
      " 10  Sex_of_Driver                     int64 \n",
      " 11  Skidding_and_Overturning          int64 \n",
      " 12  Towing_and_Articulation           int64 \n",
      " 13  Vehicle_Direction_From            int64 \n",
      " 14  Vehicle_Direction_To              int64 \n",
      " 15  Vehicle_Leaving_Carriageway       int64 \n",
      " 16  Vehicle_Location_Restricted_Lane  int64 \n",
      " 17  Vehicle_Manoeuvre                 int64 \n",
      " 18  Vehicle_Reference                 int64 \n",
      " 19  Vehicle_Type                      int64 \n",
      " 20  Was_Vehicle_Left_Hand_Drive       int64 \n",
      " 21  1st_Point_of_Impact               int64 \n",
      "dtypes: int64(20), object(2)\n",
      "memory usage: 961.8+ MB\n"
     ]
    }
   ],
   "source": [
    "vehicles.info()"
   ]
  },
  {
   "cell_type": "code",
   "execution_count": 19,
   "id": "5e1ba63e",
   "metadata": {},
   "outputs": [],
   "source": [
    "df = vehicles.copy()"
   ]
  },
  {
   "cell_type": "code",
   "execution_count": 20,
   "id": "27d24813",
   "metadata": {},
   "outputs": [],
   "source": [
    "df['Hit_Object_in_Carriageway']= df['Hit_Object_in_Carriageway'].replace(99,np.nan)\n",
    "df['Hit_Object_off_Carriageway']= df['Hit_Object_off_Carriageway'].replace(99,np.nan)\n",
    "df['Journey_Purpose_of_Driver'] = df['Journey_Purpose_of_Driver'].replace(6,np.nan)\n",
    "df['Journey_Purpose_of_Driver'] = df['Journey_Purpose_of_Driver'].replace(15,np.nan)\n",
    "df['Junction_Location'] = df['Junction_Location'].replace(9,np.nan)\n",
    "df['Skidding_and_Overturning']=df['Skidding_and_Overturning'].replace(9,np.nan)\n",
    "df['Towing_and_Articulation']=df['Towing_and_Articulation'].replace(9,np.nan)\n",
    "df['Vehicle_Direction_From']=df['Vehicle_Direction_From'].replace(9,np.nan)\n",
    "df['Vehicle_Direction_To']=df['Vehicle_Direction_To'].replace(9,np.nan)\n",
    "df['Vehicle_Leaving_Carriageway'] = df['Vehicle_Leaving_Carriageway'].replace(9,np.nan)\n",
    "df['Was_Vehicle_Left_Hand_Drive'] = df['Was_Vehicle_Left_Hand_Drive'].replace(9,np.nan)\n",
    "df['Vehicle_Location_Restricted_Lane'] = df['Vehicle_Location_Restricted_Lane'].replace(99,np.nan)\n",
    "df['Vehicle_Manoeuvre'] = df['Vehicle_Manoeuvre'].replace(9,np.nan)\n",
    "df['Vehicle_Type'] = df['Vehicle_Type'].replace(99,np.nan)\n",
    "df['1st_Point_of_Impact'] = df['1st_Point_of_Impact'].replace(9,np.nan)"
   ]
  },
  {
   "cell_type": "code",
   "execution_count": 21,
   "id": "7132b7e6",
   "metadata": {},
   "outputs": [],
   "source": [
    "df = df.replace(-1,np.nan)"
   ]
  },
  {
   "cell_type": "code",
   "execution_count": 22,
   "id": "3bd4c78d",
   "metadata": {},
   "outputs": [
    {
     "data": {
      "text/plain": [
       "Accident_Index                            0\n",
       "Accident_Reference                        0\n",
       "Age_Band_of_Driver                   656452\n",
       "Age_of_Vehicle                      1559577\n",
       "Engine_Capacity_.CC.                1492817\n",
       "Hit_Object_in_Carriageway             59548\n",
       "Hit_Object_off_Carriageway            54095\n",
       "Journey_Purpose_of_Driver           4316065\n",
       "Junction_Location                   1233123\n",
       "Propulsion_Code                     1456256\n",
       "Sex_of_Driver                           115\n",
       "Skidding_and_Overturning              60429\n",
       "Towing_and_Articulation               24172\n",
       "Vehicle_Direction_From                82611\n",
       "Vehicle_Direction_To                  85837\n",
       "Vehicle_Leaving_Carriageway           58346\n",
       "Vehicle_Location_Restricted_Lane      57817\n",
       "Vehicle_Manoeuvre                    555484\n",
       "Vehicle_Reference                         0\n",
       "Vehicle_Type                           2133\n",
       "Was_Vehicle_Left_Hand_Drive         1252874\n",
       "1st_Point_of_Impact                   52160\n",
       "dtype: int64"
      ]
     },
     "execution_count": 22,
     "metadata": {},
     "output_type": "execute_result"
    }
   ],
   "source": [
    "df.isna().sum()"
   ]
  },
  {
   "cell_type": "code",
   "execution_count": 23,
   "id": "f30cb345",
   "metadata": {},
   "outputs": [],
   "source": [
    "df = df.drop(columns=['Journey_Purpose_of_Driver'])"
   ]
  },
  {
   "cell_type": "code",
   "execution_count": 24,
   "id": "6cd6e29a",
   "metadata": {},
   "outputs": [],
   "source": [
    "df = df.dropna()"
   ]
  },
  {
   "cell_type": "code",
   "execution_count": 25,
   "id": "0700e222",
   "metadata": {},
   "outputs": [
    {
     "data": {
      "text/plain": [
       "0"
      ]
     },
     "execution_count": 25,
     "metadata": {},
     "output_type": "execute_result"
    }
   ],
   "source": [
    "df.isna().sum().sum()"
   ]
  },
  {
   "cell_type": "code",
   "execution_count": 26,
   "id": "965f3074",
   "metadata": {},
   "outputs": [],
   "source": [
    "df_v = df.copy()"
   ]
  },
  {
   "cell_type": "code",
   "execution_count": 27,
   "id": "8b2423ee",
   "metadata": {},
   "outputs": [],
   "source": [
    "df.to_csv(\"Vehicles_Cleaned.csv\",index = None)"
   ]
  },
  {
   "cell_type": "code",
   "execution_count": 28,
   "id": "2ea6fc1e",
   "metadata": {},
   "outputs": [],
   "source": [
    "casualties = pd.read_csv(\"Casualties.csv\")"
   ]
  },
  {
   "cell_type": "code",
   "execution_count": 29,
   "id": "0da81ce5",
   "metadata": {},
   "outputs": [
    {
     "name": "stdout",
     "output_type": "stream",
     "text": [
      "<class 'pandas.core.frame.DataFrame'>\n",
      "RangeIndex: 4186886 entries, 0 to 4186885\n",
      "Data columns (total 19 columns):\n",
      " #   Column                              Dtype \n",
      "---  ------                              ----- \n",
      " 0   Accident_Index                      object\n",
      " 1   Accident_Reference                  object\n",
      " 2   Age_Band_of_Casualty                int64 \n",
      " 3   Age_of_Casualty                     int64 \n",
      " 4   Bus_or_Coach_Passenger              int64 \n",
      " 5   Car_Passenger                       int64 \n",
      " 6   Casualty_Class                      int64 \n",
      " 7   Casualty_Home_Area_Type             int64 \n",
      " 8   Casualty_IMD_Decile                 int64 \n",
      " 9   Casualty_Reference                  int64 \n",
      " 10  Casualty_Severity                   int64 \n",
      " 11  Casualty_Type                       int64 \n",
      " 12  LSOA_of_Casualty                    object\n",
      " 13  Pedestrian_Location                 int64 \n",
      " 14  Pedestrian_Movement                 int64 \n",
      " 15  Pedestrian_Road_Maintenance_Worker  int64 \n",
      " 16  Sex_of_Casualty                     int64 \n",
      " 17  Vehicle_Reference                   int64 \n",
      " 18  Year                                object\n",
      "dtypes: int64(15), object(4)\n",
      "memory usage: 606.9+ MB\n"
     ]
    }
   ],
   "source": [
    "casualties.info()"
   ]
  },
  {
   "cell_type": "code",
   "execution_count": 30,
   "id": "933132f8",
   "metadata": {},
   "outputs": [],
   "source": [
    "casualties = casualties.drop(columns = ['Age_of_Casualty','Casualty_Home_Area_Type','Casualty_IMD_Decile','LSOA_of_Casualty','Year'])"
   ]
  },
  {
   "cell_type": "code",
   "execution_count": 31,
   "id": "b2d7795c",
   "metadata": {},
   "outputs": [],
   "source": [
    "df = casualties.copy()"
   ]
  },
  {
   "cell_type": "code",
   "execution_count": 32,
   "id": "8c8eb8e0",
   "metadata": {},
   "outputs": [
    {
     "name": "stdout",
     "output_type": "stream",
     "text": [
      "<class 'pandas.core.frame.DataFrame'>\n",
      "RangeIndex: 4186886 entries, 0 to 4186885\n",
      "Data columns (total 14 columns):\n",
      " #   Column                              Dtype \n",
      "---  ------                              ----- \n",
      " 0   Accident_Index                      object\n",
      " 1   Accident_Reference                  object\n",
      " 2   Age_Band_of_Casualty                int64 \n",
      " 3   Bus_or_Coach_Passenger              int64 \n",
      " 4   Car_Passenger                       int64 \n",
      " 5   Casualty_Class                      int64 \n",
      " 6   Casualty_Reference                  int64 \n",
      " 7   Casualty_Severity                   int64 \n",
      " 8   Casualty_Type                       int64 \n",
      " 9   Pedestrian_Location                 int64 \n",
      " 10  Pedestrian_Movement                 int64 \n",
      " 11  Pedestrian_Road_Maintenance_Worker  int64 \n",
      " 12  Sex_of_Casualty                     int64 \n",
      " 13  Vehicle_Reference                   int64 \n",
      "dtypes: int64(12), object(2)\n",
      "memory usage: 447.2+ MB\n"
     ]
    }
   ],
   "source": [
    "df.info()"
   ]
  },
  {
   "cell_type": "code",
   "execution_count": 33,
   "id": "73098692",
   "metadata": {},
   "outputs": [],
   "source": [
    "df['Bus_or_Coach_Passenger'] = df['Bus_or_Coach_Passenger'].replace(9,np.nan)\n",
    "df['Car_Passenger'] = df['Car_Passenger'].replace(9,np.nan)\n",
    "df['Casualty_Type'] = df['Casualty_Type'].replace(99,np.nan)\n",
    "df['Pedestrian_Location'] = df['Pedestrian_Location'].replace(10,np.nan)\n",
    "df['Pedestrian_Movement'] = df['Pedestrian_Movement'].replace(9,np.nan)\n",
    "df['Pedestrian_Road_Maintenance_Worker'] = df['Pedestrian_Road_Maintenance_Worker'].replace(2,np.nan)\n",
    "df['Sex_of_Casualty'] = df['Sex_of_Casualty'].replace(9,np.nan)"
   ]
  },
  {
   "cell_type": "code",
   "execution_count": 34,
   "id": "e466e0f2",
   "metadata": {},
   "outputs": [],
   "source": [
    "df = df.replace(-1,np.nan)"
   ]
  },
  {
   "cell_type": "code",
   "execution_count": 35,
   "id": "d11e183d",
   "metadata": {},
   "outputs": [
    {
     "data": {
      "text/plain": [
       "Accident_Index                             0\n",
       "Accident_Reference                         0\n",
       "Age_Band_of_Casualty                   88237\n",
       "Bus_or_Coach_Passenger                   373\n",
       "Car_Passenger                           4062\n",
       "Casualty_Class                             0\n",
       "Casualty_Reference                         0\n",
       "Casualty_Severity                          0\n",
       "Casualty_Type                             16\n",
       "Pedestrian_Location                    37207\n",
       "Pedestrian_Movement                   112236\n",
       "Pedestrian_Road_Maintenance_Worker    982681\n",
       "Sex_of_Casualty                         3837\n",
       "Vehicle_Reference                          0\n",
       "dtype: int64"
      ]
     },
     "execution_count": 35,
     "metadata": {},
     "output_type": "execute_result"
    }
   ],
   "source": [
    "df.isna().sum()"
   ]
  },
  {
   "cell_type": "code",
   "execution_count": 36,
   "id": "50bf8c49",
   "metadata": {},
   "outputs": [],
   "source": [
    "df = df.drop(columns = ['Pedestrian_Road_Maintenance_Worker'])"
   ]
  },
  {
   "cell_type": "code",
   "execution_count": 37,
   "id": "2b54d7f0",
   "metadata": {},
   "outputs": [],
   "source": [
    "df = df.dropna()"
   ]
  },
  {
   "cell_type": "code",
   "execution_count": 38,
   "id": "f2fb7df9",
   "metadata": {},
   "outputs": [],
   "source": [
    "df_c = df.copy()"
   ]
  },
  {
   "cell_type": "code",
   "execution_count": 39,
   "id": "dbd472da",
   "metadata": {},
   "outputs": [],
   "source": [
    "df.to_csv(\"Casualties_Cleaned.csv\",index = None)"
   ]
  },
  {
   "cell_type": "code",
   "execution_count": 40,
   "id": "a7cf90e7",
   "metadata": {},
   "outputs": [],
   "source": [
    "df = pd.merge(df_a, df_v, how='inner', on=['Accident_Index','Accident_Reference'])"
   ]
  },
  {
   "cell_type": "code",
   "execution_count": 41,
   "id": "f2a2d95e",
   "metadata": {},
   "outputs": [],
   "source": [
    "df = pd.merge(df,df_c,how='inner', on=['Accident_Index','Accident_Reference','Vehicle_Reference'])"
   ]
  },
  {
   "cell_type": "code",
   "execution_count": 42,
   "id": "a6f3ed51",
   "metadata": {},
   "outputs": [
    {
     "name": "stdout",
     "output_type": "stream",
     "text": [
      "<class 'pandas.core.frame.DataFrame'>\n",
      "Int64Index: 1425558 entries, 0 to 1425557\n",
      "Data columns (total 52 columns):\n",
      " #   Column                            Non-Null Count    Dtype  \n",
      "---  ------                            --------------    -----  \n",
      " 0   Accident_Index                    1425558 non-null  object \n",
      " 1   1st_Road_Class                    1425558 non-null  float64\n",
      " 2   Accident_Reference                1425558 non-null  object \n",
      " 3   Accident_Severity                 1425558 non-null  int64  \n",
      " 4   Carriageway_Hazards               1425558 non-null  float64\n",
      " 5   Date                              1425558 non-null  object \n",
      " 6   Day_of_Week                       1425558 non-null  int64  \n",
      " 7   Junction_Detail                   1425558 non-null  float64\n",
      " 8   Latitude                          1425558 non-null  float64\n",
      " 9   Light_Conditions                  1425558 non-null  float64\n",
      " 10  Local_Authority_(District)        1425558 non-null  float64\n",
      " 11  Longitude                         1425558 non-null  float64\n",
      " 12  Number_of_Casualties              1425558 non-null  int64  \n",
      " 13  Number_of_Vehicles                1425558 non-null  int64  \n",
      " 14  Police_Force                      1425558 non-null  float64\n",
      " 15  Road_Surface_Conditions           1425558 non-null  float64\n",
      " 16  Road_Type                         1425558 non-null  float64\n",
      " 17  Special_Conditions_at_Site        1425558 non-null  float64\n",
      " 18  Speed_limit                       1425558 non-null  float64\n",
      " 19  Time                              1425558 non-null  object \n",
      " 20  Urban_or_Rural_Area               1425558 non-null  float64\n",
      " 21  Weather_Conditions                1425558 non-null  float64\n",
      " 22  Year                              1425558 non-null  int64  \n",
      " 23  Age_Band_of_Driver                1425558 non-null  float64\n",
      " 24  Age_of_Vehicle                    1425558 non-null  float64\n",
      " 25  Engine_Capacity_.CC.              1425558 non-null  float64\n",
      " 26  Hit_Object_in_Carriageway         1425558 non-null  float64\n",
      " 27  Hit_Object_off_Carriageway        1425558 non-null  float64\n",
      " 28  Junction_Location                 1425558 non-null  float64\n",
      " 29  Propulsion_Code                   1425558 non-null  float64\n",
      " 30  Sex_of_Driver                     1425558 non-null  float64\n",
      " 31  Skidding_and_Overturning          1425558 non-null  float64\n",
      " 32  Towing_and_Articulation           1425558 non-null  float64\n",
      " 33  Vehicle_Direction_From            1425558 non-null  float64\n",
      " 34  Vehicle_Direction_To              1425558 non-null  float64\n",
      " 35  Vehicle_Leaving_Carriageway       1425558 non-null  float64\n",
      " 36  Vehicle_Location_Restricted_Lane  1425558 non-null  float64\n",
      " 37  Vehicle_Manoeuvre                 1425558 non-null  float64\n",
      " 38  Vehicle_Reference                 1425558 non-null  int64  \n",
      " 39  Vehicle_Type                      1425558 non-null  float64\n",
      " 40  Was_Vehicle_Left_Hand_Drive       1425558 non-null  float64\n",
      " 41  1st_Point_of_Impact               1425558 non-null  float64\n",
      " 42  Age_Band_of_Casualty              1425558 non-null  float64\n",
      " 43  Bus_or_Coach_Passenger            1425558 non-null  float64\n",
      " 44  Car_Passenger                     1425558 non-null  float64\n",
      " 45  Casualty_Class                    1425558 non-null  int64  \n",
      " 46  Casualty_Reference                1425558 non-null  int64  \n",
      " 47  Casualty_Severity                 1425558 non-null  int64  \n",
      " 48  Casualty_Type                     1425558 non-null  float64\n",
      " 49  Pedestrian_Location               1425558 non-null  float64\n",
      " 50  Pedestrian_Movement               1425558 non-null  float64\n",
      " 51  Sex_of_Casualty                   1425558 non-null  float64\n",
      "dtypes: float64(39), int64(9), object(4)\n",
      "memory usage: 576.4+ MB\n"
     ]
    }
   ],
   "source": [
    "df.info()"
   ]
  },
  {
   "cell_type": "code",
   "execution_count": 43,
   "id": "bfb0c28e",
   "metadata": {},
   "outputs": [],
   "source": [
    "df = df.drop(columns = ['Accident_Reference','Vehicle_Reference','Casualty_Reference'])"
   ]
  },
  {
   "cell_type": "markdown",
   "id": "79e4b837",
   "metadata": {},
   "source": [
    "## Data Transformation\n",
    "\n",
    "###  Handling Date and Time"
   ]
  },
  {
   "cell_type": "code",
   "execution_count": 44,
   "id": "2d2e8a0c",
   "metadata": {},
   "outputs": [
    {
     "data": {
      "text/plain": [
       "1425553   2021-03-28\n",
       "1425554   2021-03-12\n",
       "1425555   2021-01-04\n",
       "1425556   2021-03-15\n",
       "1425557   2021-03-15\n",
       "Name: Date, dtype: datetime64[ns]"
      ]
     },
     "execution_count": 44,
     "metadata": {},
     "output_type": "execute_result"
    }
   ],
   "source": [
    "df['Date']= pd.to_datetime(df['Date'], format=\"%d/%m/%Y\")\n",
    "df['Date'].tail()"
   ]
  },
  {
   "cell_type": "code",
   "execution_count": 45,
   "id": "d32420de",
   "metadata": {},
   "outputs": [],
   "source": [
    "# slice first and second string from time column\n",
    "df['Hour'] = df['Time'].str[0:2]\n",
    "\n",
    "# convert new column to numeric datetype\n",
    "df['Hour'] = pd.to_numeric(df['Hour'])\n",
    "\n",
    "# drop null values in our new column\n",
    "df = df.dropna(subset=['Hour'])\n",
    "\n",
    "# cast to integer values\n",
    "df['Hour'] = df['Hour'].astype('int')"
   ]
  },
  {
   "cell_type": "markdown",
   "id": "f4fd20f5",
   "metadata": {},
   "source": [
    "Next, let's define a new column that groups the Time the accidents happened into one of five options:\n",
    "\n",
    "* Morning Rush from 5am to 10am --> value 1\n",
    "* Office Hours from 10am to 3pm (or: 10:00 - 15:00) --> value 2\n",
    "* Afternoon Rush from 3pm to 7pm (or: 15:00 - 19:00) --> value 3\n",
    "* Evening from 7pm to 11pm (or: 19:00 - 23:00) --> value 4\n",
    "* Night from 11pm to 5am (or: 23:00 - 05:00) --> value 5"
   ]
  },
  {
   "cell_type": "code",
   "execution_count": 46,
   "id": "85c84007",
   "metadata": {},
   "outputs": [],
   "source": [
    "# define a function that turns the hours into daytime groups\n",
    "def when_was_it(hour):\n",
    "    if hour >= 5 and hour < 10:\n",
    "        return \"1\"\n",
    "    elif hour >= 10 and hour < 15:\n",
    "        return \"2\"\n",
    "    elif hour >= 15 and hour < 19:\n",
    "        return \"3\"\n",
    "    elif hour >= 19 and hour < 23:\n",
    "        return \"4\"\n",
    "    else:\n",
    "        return \"5\""
   ]
  },
  {
   "cell_type": "code",
   "execution_count": 47,
   "id": "fddf7e26",
   "metadata": {},
   "outputs": [],
   "source": [
    "# create a little dictionary to later look up the groups I created\n",
    "daytime_groups = {1: 'Morning: Between 5 and 10', \n",
    "                  2: 'Office Hours: Between 10 and 15', \n",
    "                  3: 'Afternoon Rush: Between 15 and 19', \n",
    "                  4: 'Evening: Between 19 and 23', \n",
    "                  5: 'Night: Between 23 and 5'}"
   ]
  },
  {
   "cell_type": "code",
   "execution_count": 48,
   "id": "60bea638",
   "metadata": {},
   "outputs": [
    {
     "data": {
      "text/html": [
       "<div>\n",
       "<style scoped>\n",
       "    .dataframe tbody tr th:only-of-type {\n",
       "        vertical-align: middle;\n",
       "    }\n",
       "\n",
       "    .dataframe tbody tr th {\n",
       "        vertical-align: top;\n",
       "    }\n",
       "\n",
       "    .dataframe thead th {\n",
       "        text-align: right;\n",
       "    }\n",
       "</style>\n",
       "<table border=\"1\" class=\"dataframe\">\n",
       "  <thead>\n",
       "    <tr style=\"text-align: right;\">\n",
       "      <th></th>\n",
       "      <th>Time</th>\n",
       "      <th>Hour</th>\n",
       "      <th>Daytime</th>\n",
       "    </tr>\n",
       "  </thead>\n",
       "  <tbody>\n",
       "    <tr>\n",
       "      <th>0</th>\n",
       "      <td>17:36</td>\n",
       "      <td>17</td>\n",
       "      <td>3</td>\n",
       "    </tr>\n",
       "    <tr>\n",
       "      <th>1</th>\n",
       "      <td>00:15</td>\n",
       "      <td>0</td>\n",
       "      <td>5</td>\n",
       "    </tr>\n",
       "    <tr>\n",
       "      <th>2</th>\n",
       "      <td>10:35</td>\n",
       "      <td>10</td>\n",
       "      <td>2</td>\n",
       "    </tr>\n",
       "    <tr>\n",
       "      <th>3</th>\n",
       "      <td>22:43</td>\n",
       "      <td>22</td>\n",
       "      <td>4</td>\n",
       "    </tr>\n",
       "    <tr>\n",
       "      <th>4</th>\n",
       "      <td>00:42</td>\n",
       "      <td>0</td>\n",
       "      <td>5</td>\n",
       "    </tr>\n",
       "  </tbody>\n",
       "</table>\n",
       "</div>"
      ],
      "text/plain": [
       "    Time  Hour Daytime\n",
       "0  17:36    17       3\n",
       "1  00:15     0       5\n",
       "2  10:35    10       2\n",
       "3  22:43    22       4\n",
       "4  00:42     0       5"
      ]
     },
     "execution_count": 48,
     "metadata": {},
     "output_type": "execute_result"
    }
   ],
   "source": [
    "# apply this function to our temporary hour column\n",
    "df['Daytime'] = df['Hour'].apply(when_was_it)\n",
    "df[['Time', 'Hour', 'Daytime']].head()"
   ]
  },
  {
   "cell_type": "code",
   "execution_count": 49,
   "id": "edc1475a",
   "metadata": {},
   "outputs": [],
   "source": [
    "# drop old time column and temporary hour column\n",
    "df = df.drop(columns=['Time', 'Hour'])"
   ]
  },
  {
   "cell_type": "code",
   "execution_count": 50,
   "id": "06c067ca",
   "metadata": {},
   "outputs": [],
   "source": [
    "df.to_csv(\"Merged_data.csv\",index=None)"
   ]
  }
 ],
 "metadata": {
  "kernelspec": {
   "display_name": "Python 3",
   "language": "python",
   "name": "python3"
  },
  "language_info": {
   "codemirror_mode": {
    "name": "ipython",
    "version": 3
   },
   "file_extension": ".py",
   "mimetype": "text/x-python",
   "name": "python",
   "nbconvert_exporter": "python",
   "pygments_lexer": "ipython3",
   "version": "3.8.8"
  }
 },
 "nbformat": 4,
 "nbformat_minor": 5
}
